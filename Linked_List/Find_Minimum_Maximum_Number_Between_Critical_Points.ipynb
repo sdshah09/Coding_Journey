{
 "cells": [
  {
   "attachments": {
    "image-2.png": {
     "image/png": "[encoded data removed]"
    },
    "image-3.png": {
     "image/png": "[encoded data removed]"
    },
    "image.png": {
     "image/png": "[encoded data removed]"
    }
   },
   "cell_type": "markdown",
   "metadata": {},
   "source": [
    "2058. Find the Minimum and Maximum Number of Nodes Between Critical Points\n",
    "Solved\n",
    "Medium\n",
    "Topics\n",
    "Companies\n",
    "Hint\n",
    "A critical point in a linked list is defined as either a local maxima or a local minima.\n",
    "\n",
    "A node is a local maxima if the current node has a value strictly greater than the previous node and the next node.\n",
    "\n",
    "A node is a local minima if the current node has a value strictly smaller than the previous node and the next node.\n",
    "\n",
    "Note that a node can only be a local maxima/minima if there exists both a previous node and a next node.\n",
    "\n",
    "Given a linked list head, return an array of length 2 containing [minDistance, maxDistance] where minDistance is the minimum distance between any two distinct critical points and maxDistance is the maximum distance between any two distinct critical points. If there are fewer than two critical points, return [-1, -1].\n",
    "\n",
    " \n",
    "\n",
    "Example 1:\n",
    "\n",
    "![image.png](attachment:image.png)\n",
    "\n",
    "Input: head = [3,1]\n",
    "Output: [-1,-1]\n",
    "Explanation: There are no critical points in [3,1].\n",
    "\n",
    "Example 2:\n",
    "\n",
    "![image-2.png](attachment:image-2.png)\n",
    "\n",
    "Input: head = [5,3,1,2,5,1,2]\n",
    "Output: [1,3]\n",
    "Explanation: There are three critical points:\n",
    "- [5,3,1,2,5,1,2]: The third node is a local minima because 1 is less than 3 and 2.\n",
    "- [5,3,1,2,5,1,2]: The fifth node is a local maxima because 5 is greater than 2 and 1.\n",
    "- [5,3,1,2,5,1,2]: The sixth node is a local minima because 1 is less than 5 and 2.\n",
    "The minimum distance is between the fifth and the sixth node. minDistance = 6 - 5 = 1.\n",
    "The maximum distance is between the third and the sixth node. maxDistance = 6 - 3 = 3.\n",
    "\n",
    "Example 3:\n",
    "\n",
    "![image-3.png](attachment:image-3.png)\n",
    "\n",
    "Input: head = [1,3,2,2,3,2,2,2,7]\n",
    "Output: [3,3]\n",
    "Explanation: There are two critical points:\n",
    "- [1,3,2,2,3,2,2,2,7]: The second node is a local maxima because 3 is greater than 1 and 2.\n",
    "- [1,3,2,2,3,2,2,2,7]: The fifth node is a local maxima because 3 is greater than 2 and 2.\n",
    "Both the minimum and maximum distances are between the second and the fifth node.\n",
    "Thus, minDistance and maxDistance is 5 - 2 = 3.\n",
    "Note that the last node is not considered a local maxima because it does not have a next node.\n",
    " \n",
    "\n",
    "Constraints:\n",
    "\n",
    "The number of nodes in the list is in the range [2, 105].\n",
    "1 <= Node.val <= 105\n"
   ]
  },
  {
   "cell_type": "code",
   "execution_count": null,
   "metadata": {},
   "outputs": [],
   "source": [
    "# Definition for singly-linked list.\n",
    "# Time Complexity:- O(n)\n",
    "# Space Complexity- O(n)\n",
    "\n",
    "from typing import Optional\n",
    "from typing import List\n",
    "\n",
    "class ListNode:\n",
    "    def __init__(self, val=0, next=None):\n",
    "        self.val = val\n",
    "        self.next = next\n",
    "class Solution:\n",
    "    def nodesBetweenCriticalPoints(self, head: Optional[ListNode]) -> List[int]:\n",
    "        index = 1\n",
    "        prev = head\n",
    "        cur = head.next\n",
    "        local = []\n",
    "        while cur.next:\n",
    "            if (cur.val>prev.val and cur.val>cur.next.val) or (cur.val<prev.val and cur.val<cur.next.val):\n",
    "                local.append(index)\n",
    "            cur = cur.next\n",
    "            prev = prev.next\n",
    "            index+=1\n",
    "        if len(local)<2:\n",
    "            return [-1,-1]\n",
    "        minDistance = float('inf')\n",
    "        maxDistance = local[-1]-local[0]\n",
    "        for i in range(1,len(local)):\n",
    "            minDistance = min(minDistance,local[i]-local[i-1])\n",
    "\n",
    "        return [minDistance,maxDistance]"
   ]
  },
  {
   "cell_type": "markdown",
   "metadata": {},
   "source": []
  }
 ],
 "metadata": {
  "kernelspec": {
   "display_name": "Python 3",
   "language": "python",
   "name": "python3"
  },
  "language_info": {
   "name": "python",
   "version": "3.10.6"
  }
 },
 "nbformat": 4,
 "nbformat_minor": 2
}

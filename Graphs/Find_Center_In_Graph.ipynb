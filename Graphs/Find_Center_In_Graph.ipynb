{
 "cells": [
  {
   "attachments": {
    "image.png": {
     "image/png": "[encoded data removed]"
    }
   },
   "cell_type": "markdown",
   "metadata": {},
   "source": [
    "1791. Find Center of Star Graph\n",
    "Solved\n",
    "Easy\n",
    "Topics\n",
    "Companies\n",
    "Hint\n",
    "There is an undirected star graph consisting of n nodes labeled from 1 to n. A star graph is a graph where there is one center node and exactly n - 1 edges that connect the center node with every other node.\n",
    "\n",
    "You are given a 2D integer array edges where each edges[i] = [ui, vi] indicates that there is an edge between the nodes ui and vi. Return the center of the given star graph.\n",
    "\n",
    "![image.png](attachment:image.png)\n",
    "\n",
    "Input: edges = [[1,2],[2,3],[4,2]]\n",
    "Output: 2\n",
    "Explanation: As shown in the figure above, node 2 is connected to every other node, so 2 is the center.\n",
    "Example 2:\n",
    "\n",
    "Input: edges = [[1,2],[5,1],[1,3],[1,4]]\n",
    "Output: 1\n"
   ]
  },
  {
   "cell_type": "code",
   "execution_count": 1,
   "metadata": {},
   "outputs": [],
   "source": [
    "from typing import List\n",
    "class Solution:\n",
    "    def findCenter(self, edges: List[List[int]]) -> int:\n",
    "        # max_node = max(max(edge) for edge in edges)\n",
    "        # n = len(edges)\n",
    "        # adjList = [[] for _ in range(max_node+1)]\n",
    "        # for i in range(len(edges)):\n",
    "        #     adjList[edges[i][0]].append(edges[i][1])\n",
    "        #     adjList[edges[i][1]].append(edges[i][0])\n",
    "        # maxLenIndex = adjList.index(max(adjList, key=len))\n",
    "        # return maxLenIndex\n",
    "\n",
    "        center = []\n",
    "        for i in edges:\n",
    "            if i[0] in center:\n",
    "                return i[0]\n",
    "            if i[1] in center:\n",
    "                return i[1]\n",
    "            center.append(i[0])\n",
    "            center.append(i[1])"
   ]
  },
  {
   "cell_type": "code",
   "execution_count": null,
   "metadata": {},
   "outputs": [],
   "source": []
  }
 ],
 "metadata": {
  "kernelspec": {
   "display_name": "Python 3",
   "language": "python",
   "name": "python3"
  },
  "language_info": {
   "codemirror_mode": {
    "name": "ipython",
    "version": 3
   },
   "file_extension": ".py",
   "mimetype": "text/x-python",
   "name": "python",
   "nbconvert_exporter": "python",
   "pygments_lexer": "ipython3",
   "version": "3.10.6"
  }
 },
 "nbformat": 4,
 "nbformat_minor": 2
}

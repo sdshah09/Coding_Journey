{
 "cells": [
  {
   "attachments": {
    "image.png": {
     "image/png": "[encoded data removed]"
    }
   },
   "cell_type": "markdown",
   "metadata": {},
   "source": [
    "Kahn’s algorithm for Topological Sorting\n",
    "Last Updated : 07 Mar, 2024\n",
    "Given a Directed Acyclic Graph having V vertices and E edges, your task is to find any Topological Sorted order of the graph.\n",
    "\n",
    "Topological Sorted order: It is a linear ordering of vertices such that for every directed edge u -> v, where vertex u comes before v in the ordering.\n",
    "\n",
    "Example:\n",
    "\n",
    "Input: V=6 , E = {{2,3},{3,1},{4,0},{4,1},{5,0},{5,2}}\n",
    "![image.png](attachment:image.png)\n",
    "\n",
    "Output: 5 4 2 3 1 0\n",
    "Explanation: In the above output, each dependent vertex is printed after the vertices it depends upon.\n",
    "\n",
    "Kahn’s Algorithm for Topological Sorting:\n",
    "Kahn’s Algorithm for Topological Sorting is a method used to order the vertices of a directed graph in a linear order such that for every directed edge from vertex A to vertex B, A comes before B in the order. The algorithm works by repeatedly finding vertices with no incoming edges, removing them from the graph, and updating the incoming edges of the remaining vertices. This process continues until all vertices have been ordered.\n",
    "\n"
   ]
  },
  {
   "cell_type": "code",
   "execution_count": 3,
   "metadata": {},
   "outputs": [
    {
     "name": "stdout",
     "output_type": "stream",
     "text": [
      "Topological sorting of the graph: 0 3 1 2 "
     ]
    }
   ],
   "source": [
    "# Time Complexity:- O(V+E)\n",
    "# Space Complexity:- O(V+E)\n",
    "\n",
    "from collections import deque\n",
    "\n",
    "class Solution:\n",
    "    def topologicalSort(self,adj,V):\n",
    "        indegree = [0]*V\n",
    "        for i in range(V):\n",
    "            for j in adj[i]:\n",
    "                indegree[j]+=1\n",
    "        q = deque()\n",
    "        for i in range(V):\n",
    "            if indegree[i]==0: # Indegree will be zero when there are no incoming vertexes and we will append this queue because we want to add them to your stack and return the topological sorted array\n",
    "                q.append(i) \n",
    "        res = []\n",
    "        while q:\n",
    "            node = q.popleft()\n",
    "            res.append(node)\n",
    "            for i in adj[node]:\n",
    "                indegree[i]-=1\n",
    "                if indegree[i]==0:\n",
    "                    q.append(i)\n",
    "        if len(res) != V:\n",
    "            print(\"Graph contains cycle!\")\n",
    "            return []\n",
    "        return res\n",
    "if __name__ == \"__main__\":\n",
    "    n = 4  # Number of nodes\n",
    " \n",
    "    # Edges\n",
    "    edges = [[0, 1], [1, 2], [3, 1], [3, 2]]\n",
    " \n",
    "    # Graph represented as an adjacency list\n",
    "    adj = [[] for _ in range(n)]\n",
    " \n",
    "    # Constructing adjacency list\n",
    "    for edge in edges:\n",
    "        adj[edge[0]].append(edge[1])\n",
    " \n",
    "    # Performing topological sort\n",
    "    print(\"Topological sorting of the graph:\", end=\" \")\n",
    "    sol = Solution()\n",
    "    result = sol.topologicalSort(adj, n)\n",
    " \n",
    "    # Displaying result\n",
    "    for vertex in result:\n",
    "        print(vertex, end=\" \")\n"
   ]
  },
  {
   "cell_type": "code",
   "execution_count": null,
   "metadata": {},
   "outputs": [],
   "source": []
  }
 ],
 "metadata": {
  "kernelspec": {
   "display_name": "Python 3",
   "language": "python",
   "name": "python3"
  },
  "language_info": {
   "codemirror_mode": {
    "name": "ipython",
    "version": 3
   },
   "file_extension": ".py",
   "mimetype": "text/x-python",
   "name": "python",
   "nbconvert_exporter": "python",
   "pygments_lexer": "ipython3",
   "version": "3.12.2"
  }
 },
 "nbformat": 4,
 "nbformat_minor": 2
}

{
 "cells": [
  {
   "attachments": {
    "image-2.png": {
     "image/png": "[encoded data removed]"
    },
    "image.png": {
     "image/png": "[encoded data removed]"
    }
   },
   "cell_type": "markdown",
   "metadata": {},
   "source": [
    "542. 01 Matrix\n",
    "Solved\n",
    "Medium\n",
    "Topics\n",
    "Companies\n",
    "Given an m x n binary matrix mat, return the distance of the nearest 0 for each cell.\n",
    "\n",
    "The distance between two adjacent cells is 1.\n",
    "\n",
    " \n",
    "\n",
    "Example 1:\n",
    "\n",
    "![image.png](attachment:image.png)\n",
    "\n",
    "Input: mat = [[0,0,0],[0,1,0],[0,0,0]]\n",
    "\n",
    "Output: [[0,0,0],[0,1,0],[0,0,0]]\n",
    "\n",
    "Example 2:\n",
    "\n",
    "![image-2.png](attachment:image-2.png)\n",
    "Input: mat = [[0,0,0],[0,1,0],[1,1,1]]\n",
    "Output: [[0,0,0],[0,1,0],[1,2,1]]\n",
    " \n",
    "\n",
    "Constraints:\n",
    "\n",
    "m == mat.length\n",
    "n == mat[i].length\n",
    "1 <= m, n <= 104\n",
    "1 <= m * n <= 104\n",
    "mat[i][j] is either 0 or 1.\n",
    "There is at least one 0 in mat.\n"
   ]
  },
  {
   "cell_type": "code",
   "execution_count": 9,
   "metadata": {},
   "outputs": [
    {
     "name": "stdout",
     "output_type": "stream",
     "text": [
      "Matrix  [[0, 0, 0], [0, -1, 0], [-1, -1, -1]]\n",
      "Queue:  deque([(0, 0), (0, 1), (0, 2), (1, 0), (1, 2)])\n",
      "Matrix after visiting:  [[0, 0, 0], [0, -1, 0], [-1, -1, -1]]\n",
      "Queue:  deque([(0, 1), (0, 2), (1, 0), (1, 2)])\n",
      "Matrix after visiting:  [[0, 0, 0], [0, 1, 0], [-1, -1, -1]]\n",
      "Queue:  deque([(0, 2), (1, 0), (1, 2), (1, 1)])\n",
      "Matrix after visiting:  [[0, 0, 0], [0, 1, 0], [-1, -1, -1]]\n",
      "Queue:  deque([(1, 0), (1, 2), (1, 1)])\n",
      "Matrix after visiting:  [[0, 0, 0], [0, 1, 0], [1, -1, -1]]\n",
      "Queue:  deque([(1, 2), (1, 1), (2, 0)])\n",
      "Matrix after visiting:  [[0, 0, 0], [0, 1, 0], [1, -1, 1]]\n",
      "Queue:  deque([(1, 1), (2, 0), (2, 2)])\n",
      "Matrix after visiting:  [[0, 0, 0], [0, 1, 0], [1, 2, 1]]\n",
      "Queue:  deque([(2, 0), (2, 2), (2, 1)])\n",
      "Matrix after visiting:  [[0, 0, 0], [0, 1, 0], [1, 2, 1]]\n",
      "Queue:  deque([(2, 2), (2, 1)])\n",
      "Matrix after visiting:  [[0, 0, 0], [0, 1, 0], [1, 2, 1]]\n",
      "Queue:  deque([(2, 1)])\n",
      "Matrix after visiting:  [[0, 0, 0], [0, 1, 0], [1, 2, 1]]\n",
      "[[0, 0, 0], [0, 1, 0], [1, 2, 1]]\n"
     ]
    }
   ],
   "source": [
    "from collections import deque\n",
    "from typing import List\n",
    "class Solution:\n",
    "    def updateMatrix(self, mat: List[List[int]]) -> List[List[int]]:\n",
    "        rows, cols = len(mat), len(mat[0])\n",
    "        directions = [(0, 1), (0, -1), (1, 0), (-1, 0)]\n",
    "        q = deque()\n",
    "        \n",
    "        # Use the original matrix to mark visited cells\n",
    "        # Initialize unvisited cells to -1\n",
    "        for i in range(rows):\n",
    "            for j in range(cols):\n",
    "                if mat[i][j] == 0:\n",
    "                    q.append((i, j))\n",
    "                else:\n",
    "                    mat[i][j] = -1\n",
    "        print(\"Matrix \", mat)\n",
    "        while q:\n",
    "            print('Queue: ',q)\n",
    "            i, j = q.popleft()\n",
    "            for dx, dy in directions:\n",
    "                ni, nj = i + dx, j + dy\n",
    "                if 0 <= ni < rows and 0 <= nj < cols and mat[ni][nj] == -1:\n",
    "                    mat[ni][nj] = mat[i][j] + 1\n",
    "                    q.append((ni, nj)) \n",
    "            print(\"Matrix after visiting: \",mat)\n",
    "        \n",
    "        return mat\n",
    "if __name__ == \"__main__\":\n",
    "    sol = Solution()\n",
    "    print(sol.updateMatrix([[0,0,0],[0,1,0],[1,1,1]]))\n"
   ]
  },
  {
   "cell_type": "markdown",
   "metadata": {},
   "source": []
  },
  {
   "cell_type": "code",
   "execution_count": 6,
   "metadata": {},
   "outputs": [
    {
     "name": "stderr",
     "output_type": "stream",
     "text": [
      "'[image-2.png]' is not recognized as an internal or external command,\n",
      "operable program or batch file.\n"
     ]
    }
   ],
   "source": []
  },
  {
   "cell_type": "code",
   "execution_count": null,
   "metadata": {},
   "outputs": [],
   "source": []
  }
 ],
 "metadata": {
  "kernelspec": {
   "display_name": "Python 3",
   "language": "python",
   "name": "python3"
  },
  "language_info": {
   "codemirror_mode": {
    "name": "ipython",
    "version": 3
   },
   "file_extension": ".py",
   "mimetype": "text/x-python",
   "name": "python",
   "nbconvert_exporter": "python",
   "pygments_lexer": "ipython3",
   "version": "3.10.6"
  }
 },
 "nbformat": 4,
 "nbformat_minor": 2
}

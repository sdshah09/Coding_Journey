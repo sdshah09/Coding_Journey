{
 "cells": [
  {
   "cell_type": "markdown",
   "metadata": {},
   "source": [
    "\n",
    "<br>\n",
    "1.Write a Python program to create a lambda function that adds 15 to a given number passed in as an argument, also create a lambda function that multiplies argument x with argument y and prints the result.<br>\n"
   ]
  },
  {
   "cell_type": "code",
   "execution_count": null,
   "metadata": {},
   "outputs": [],
   "source": [
    "r = lambda x:x+15\n",
    "q = lambda x,y:x*y"
   ]
  },
  {
   "cell_type": "code",
   "execution_count": null,
   "metadata": {},
   "outputs": [],
   "source": [
    "print(r(10))\n",
    "print(q(16,3))"
   ]
  },
  {
   "cell_type": "markdown",
   "metadata": {},
   "source": [
    "\n",
    "<br>\n",
    "2. Write a Python program to create a function that takes one argument, and that argument will be multiplied with an unknown given number.<br>\n",
    "Sample Output:<br>\n"
   ]
  },
  {
   "cell_type": "code",
   "execution_count": null,
   "metadata": {},
   "outputs": [],
   "source": [
    "def func(n):\n",
    "    return lambda x:x*n"
   ]
  },
  {
   "cell_type": "code",
   "execution_count": null,
   "metadata": {},
   "outputs": [],
   "source": [
    "result = func(2)\n",
    "print(result(15))\n",
    "result = func(4)\n",
    "print(result(60))"
   ]
  },
  {
   "cell_type": "markdown",
   "metadata": {},
   "source": [
    "\n",
    "<br>\n",
    "3. Write a Python program to sort a list of tuples using Lambda.<br>\n",
    "Original list of tuples:<br>\n",
    "[('English', 88), ('Science', 90), ('Maths', 97), ('Social sciences', 82)]<br>\n",
    "Sorting the List of Tuples:<br>\n",
    "[('Social sciences', 82), ('English', 88), ('Science', 90), ('Maths', 97)]<br>\n"
   ]
  },
  {
   "cell_type": "code",
   "execution_count": null,
   "metadata": {},
   "outputs": [],
   "source": [
    "scores = [('English', 88), ('Science', 90), ('Maths', 97), ('Social sciences', 82)]\n",
    "scores.sort(key=lambda x: x[1])\n",
    "print(scores)"
   ]
  },
  {
   "cell_type": "markdown",
   "metadata": {},
   "source": [
    "\n",
    "<br>\n",
    "4. Write a Python program to sort a list of dictionaries using Lambda.<br>\n",
    "Original list of dictionaries :<br>\n",
    "[{'make': 'Nokia', 'model': 216, 'color': 'Black'}, {'make': 'Mi Max', 'model': '2', 'color': 'Gold'}, {'make': 'Samsung', 'model': 7, 'color': 'Blue'}]<br>\n",
    "Sorting the List of dictionaries :<br>\n",
    "[{'make': 'Nokia', 'model': 216, 'color': 'Black'}, {'make': 'Samsung', 'model': 7, 'color': 'Blue'}, {'make': 'Mi Max', 'model': '2', 'color': 'Gold'}]<br>\n"
   ]
  },
  {
   "cell_type": "code",
   "execution_count": null,
   "metadata": {},
   "outputs": [],
   "source": [
    "phones = [{'make': 'Nokia', 'model': 216, 'color': 'Black'}, {'make': 'Mi Max', 'model': '2', 'color': 'Gold'}, {'make': 'Samsung', 'model': 7, 'color': 'Blue'}]"
   ]
  },
  {
   "cell_type": "code",
   "execution_count": null,
   "metadata": {},
   "outputs": [],
   "source": [
    "phones.sort(key = lambda x:x['color'])\n",
    "print(\"4: problem, \",phones)"
   ]
  },
  {
   "cell_type": "markdown",
   "metadata": {},
   "source": [
    "\n",
    "<br>\n",
    "5. Write a Python program to filter a list of integers using Lambda.<br>\n",
    "Original list of integers:<br>\n",
    "[1, 2, 3, 4, 5, 6, 7, 8, 9, 10]<br>\n",
    "Even numbers from the said list:<br>\n",
    "[2, 4, 6, 8, 10]<br>\n",
    "Odd numbers from the said list:<br>\n",
    "[1, 3, 5, 7, 9]<br>\n"
   ]
  },
  {
   "cell_type": "code",
   "execution_count": null,
   "metadata": {},
   "outputs": [],
   "source": [
    "numbers = [1, 2, 3, 4, 5, 6, 7, 8, 9, 10]\n",
    "even = list(filter(lambda x:x%2==0,numbers))\n",
    "odd = list(filter(lambda x:x%2==1,numbers))\n",
    "print(\"5: \",even)\n",
    "print(\"6: \",odd)"
   ]
  },
  {
   "cell_type": "markdown",
   "metadata": {},
   "source": [
    "\n",
    "<br>\n",
    "6. Write a Python program to square and cube every number in a given list of integers using Lambda.<br>\n",
    "Original list of integers:<br>\n",
    "[1, 2, 3, 4, 5, 6, 7, 8, 9, 10]<br>\n",
    "Square every number of the said list:<br>\n",
    "[1, 4, 9, 16, 25, 36, 49, 64, 81, 100]<br>\n",
    "Cube every number of the said list:<br>\n",
    "[1, 8, 27, 64, 125, 216, 343, 512, 729, 1000]<br>\n"
   ]
  },
  {
   "cell_type": "code",
   "execution_count": null,
   "metadata": {},
   "outputs": [],
   "source": [
    "nums = [1, 2, 3, 4, 5, 6, 7, 8, 9, 10]\n",
    "# square(nums)"
   ]
  },
  {
   "cell_type": "code",
   "execution_count": null,
   "metadata": {},
   "outputs": [],
   "source": [
    "square = list(map(lambda x:x**2,nums))\n",
    "cube = list(map(lambda x:x**3,nums))\n",
    "print(\"Problem 6: \",square,cube)"
   ]
  },
  {
   "cell_type": "markdown",
   "metadata": {},
   "source": [
    "\n",
    "<br>\n",
    "7. Write a Python program to find if a given string starts with a given character using Lambda.<br>\n",
    "Sample Output:<br>\n",
    "True<br>\n",
    "False<br>\n"
   ]
  },
  {
   "cell_type": "code",
   "execution_count": null,
   "metadata": {},
   "outputs": [],
   "source": [
    "starts_with = lambda s:True if s.startswith('P') else False\n",
    "print(starts_with(\"rint\"))"
   ]
  },
  {
   "cell_type": "markdown",
   "metadata": {},
   "source": [
    "\n",
    "<br>\n",
    "8. Write a Python program to extract year, month, date and time using Lambda.<br>\n",
    "Sample Output:<br>\n",
    "2020-01-15 09:03:32.744178<br>\n",
    "2020<br>\n",
    "1<br>\n",
    "15<br>\n",
    "09:03:32.744178<br>\n"
   ]
  },
  {
   "cell_type": "code",
   "execution_count": null,
   "metadata": {},
   "outputs": [],
   "source": [
    "import datetime\n",
    "now = datetime.datetime.now()\n",
    "print(now)\n",
    "year,month,day = lambda x:x.year,lambda x:x.month, lambda x:x.day\n",
    "print(year(now),month(now),day(now))\n",
    "time = lambda x:x.time()\n",
    "print(time(now))"
   ]
  },
  {
   "cell_type": "markdown",
   "metadata": {},
   "source": [
    "\n",
    "<br>\n",
    "9. Write a Python program to check whether a given string is a number or not using Lambda.<br>\n",
    "Sample Output:<br>\n",
    "True<br>\n",
    "True<br>\n",
    "False<br>\n",
    "True<br>\n",
    "False<br>\n",
    "True<br>\n",
    "Print checking numbers:<br>\n",
    "True<br>\n",
    "True<br>\n",
    "Check decimal as well as numbers but will return False with negative number <br>\n"
   ]
  },
  {
   "cell_type": "code",
   "execution_count": null,
   "metadata": {},
   "outputs": [],
   "source": [
    "isNumber = lambda x:x.replace('.','',1).isdigit()\n",
    "print(isNumber('-123'))"
   ]
  },
  {
   "cell_type": "markdown",
   "metadata": {},
   "source": [
    "\n",
    "<br>\n",
    "10. Write a Python program to create Fibonacci series up to n using Lambda.<br>\n",
    "Fibonacci series upto 2:<br>\n",
    "[0, 1]<br>\n",
    "Fibonacci series upto 5:<br>\n",
    "[0, 1, 1, 2, 3]<br>\n",
    "Fibonacci series upto 6:<br>\n",
    "[0, 1, 1, 2, 3, 5]<br>\n",
    "Fibonacci series upto 9:<br>\n",
    "[0, 1, 1, 2, 3, 5, 8, 13, 21]<br>\n"
   ]
  },
  {
   "cell_type": "code",
   "execution_count": null,
   "metadata": {},
   "outputs": [],
   "source": [
    "from functools import reduce \n",
    "fibonacci = lambda n:reduce(lambda x,_:x+[x[-1]+x[-2]],range(n-2),[0,1])\n",
    "print(fibonacci(5))"
   ]
  },
  {
   "cell_type": "markdown",
   "metadata": {},
   "source": [
    "\n",
    "<br>\n",
    "11. Write a Python program to find the intersection of two given arrays using Lambda.<br>\n",
    "Original arrays:<br>\n",
    "[1, 2, 3, 5, 7, 8, 9, 10]<br>\n",
    "[1, 2, 4, 8, 9]<br>\n",
    "Intersection of the said arrays: [1, 2, 8, 9]<br>\n"
   ]
  },
  {
   "cell_type": "code",
   "execution_count": null,
   "metadata": {},
   "outputs": [],
   "source": [
    "n = [1, 2, 3, 5, 7, 8, 9, 10]\n",
    "m =[1, 2, 4, 8, 9]\n",
    "intersection = lambda x,y:list(a for a in y if a in x)\n",
    "print(intersection(n,m))"
   ]
  },
  {
   "cell_type": "markdown",
   "metadata": {},
   "source": [
    "\n",
    "<br>\n",
    "12. Write a Python program to rearrange positive and negative numbers in a given array using Lambda.<br>\n",
    "Original arrays:<br>\n",
    "[-1, 2, -3, 5, 7, 8, 9, -10]<br>\n",
    "Rearrange positive and negative numbers of the said array:<br>\n",
    "[2, 5, 7, 8, 9, -10, -3, -1]<br>\n"
   ]
  },
  {
   "cell_type": "code",
   "execution_count": null,
   "metadata": {},
   "outputs": [],
   "source": [
    "nums = [-1, 2, -3, 5, 7, 8, 9, -10]\n",
    "positive = list(filter(lambda x:x>0,nums))\n",
    "negative = list(filter(lambda x:x<0,nums))\n",
    "print(positive+negative)"
   ]
  },
  {
   "cell_type": "code",
   "execution_count": null,
   "metadata": {},
   "outputs": [],
   "source": [
    "result = sorted(nums, key=lambda i: 0 if i == 0 else -1 / i)"
   ]
  },
  {
   "cell_type": "markdown",
   "metadata": {},
   "source": [
    "\n",
    "<br>\n",
    "Letâ€™s go through each part of this key function.<br>\n",
    "0 if i == 0:<br>\n",
    "If i is zero, the lambda returns 0. This means that zeros will have a sorting key of 0.<br>\n",
    "This ensures that all zeros are grouped together since they have the same sorting key.<br>\n",
    "else -1 / i:<br>\n",
    "For non-zero values, the lambda returns -1 / i. This produces a sorting key that is based on the reciprocal of i but with a negative sign.<br>\n",
    "This negative reciprocal affects the order:<br>\n",
    "For positive numbers: -1 / i is negative, so larger positive numbers (smaller -1 / i values) come before smaller positive numbers (larger -1 / i values).<br>\n",
    "For negative numbers: -1 / i is positive, so smaller negative numbers (smaller -1 / i values) come before larger negative numbers (larger -1 / i values).<br>\n"
   ]
  },
  {
   "cell_type": "markdown",
   "metadata": {},
   "source": [
    "\n",
    "<br>\n",
    "13. Write a Python program to count the even and odd numbers in a given array of integers using Lambda.<br>\n",
    "Original arrays:<br>\n",
    "[1, 2, 3, 5, 7, 8, 9, 10]<br>\n",
    "Number of even numbers in the above array: 3<br>\n",
    "Number of odd numbers in the above array: 5<br>\n"
   ]
  },
  {
   "cell_type": "code",
   "execution_count": null,
   "metadata": {},
   "outputs": [],
   "source": [
    "nums = [1, 2, 3, 5, 7, 8, 9, 10]\n",
    "odd = len(list(filter(lambda x:x%2==1,nums)))\n",
    "even = len(list(filter(lambda x:x%2==0,nums)))\n",
    "print(odd,even)"
   ]
  },
  {
   "cell_type": "markdown",
   "metadata": {},
   "source": [
    "\n",
    "<br>\n",
    "14. Write a Python program to filter a given list to determine if the values in the list have a length of 6 using Lambda.<br>\n",
    "Sample Output:<br>\n",
    "Monday<br>\n",
    "Friday<br>\n",
    "Sunday<br>\n"
   ]
  },
  {
   "cell_type": "code",
   "execution_count": null,
   "metadata": {},
   "outputs": [],
   "source": [
    "weekdays = ['Monday', 'Tuesday', 'Wednesday', 'Thursday', 'Friday', 'Saturday', 'Sunday']"
   ]
  },
  {
   "cell_type": "code",
   "execution_count": null,
   "metadata": {},
   "outputs": [],
   "source": [
    "length_list = list(filter(lambda x:len(x)==6, weekdays))\n",
    "print(length_list)"
   ]
  },
  {
   "cell_type": "markdown",
   "metadata": {},
   "source": [
    "\n",
    "<br>\n",
    "15. Write a Python program to add two given lists using map and lambda.<br>\n",
    "Original list:<br>\n",
    "[4, 5, 6]<br>\n",
    "Result: after adding two list<br>\n",
    "[5, 7, 9]<br>\n"
   ]
  },
  {
   "cell_type": "code",
   "execution_count": null,
   "metadata": {},
   "outputs": [],
   "source": [
    "m = [1, 2, 3]\n",
    "n = [4, 5, 6]\n",
    "add_list = list(map(lambda x,y:x+y,m,n))\n",
    "print(add_list)"
   ]
  },
  {
   "cell_type": "markdown",
   "metadata": {},
   "source": [
    "\n",
    "<br>\n",
    "16. Write a Python program to find the second lowest total marks of any student(s) from the given names and marks of each student using lists and lambda. Input the number of students, the names and grades of each student.<br>\n",
    "Input number of students: 5<br>\n",
    "Name: S ROY<br>\n",
    "Grade: 1<br>\n",
    "Name: B BOSE<br>\n",
    "Grade: 3<br>\n",
    "Name: N KAR<br>\n",
    "Grade: 2<br>\n",
    "Name: C DUTTA<br>\n",
    "Grade: 1<br>\n",
    "Name: G GHOSH<br>\n",
    "Grade: 1<br>\n",
    "Names and Grades of all students:<br>\n",
    "[['S ROY', 1.0], ['B BOSE', 3.0], ['N KAR', 2.0], ['C DUTTA', 1.0], ['G GHOSH', 1.0]]<br>\n",
    "Second lowest grade: 2.0<br>\n",
    "Names:<br>\n",
    "N KAR<br>\n"
   ]
  },
  {
   "cell_type": "markdown",
   "metadata": {},
   "source": [
    "# Input number of students<br>\n",
    "num_students = int(input(\"Input number of students: \"))"
   ]
  },
  {
   "cell_type": "markdown",
   "metadata": {},
   "source": [
    "# Collect names and grades for each student<br>\n",
    "students = []<br>\n",
    "for _ in range(num_students):<br>\n",
    "    name = input(\"Name: \")<br>\n",
    "    grade = float(input(\"Grade: \"))<br>\n",
    "    students.append([name, grade])"
   ]
  },
  {
   "cell_type": "markdown",
   "metadata": {},
   "source": [
    "# Display all student names and grades<br>\n",
    "print(\"Names and Grades of all students:\")<br>\n",
    "print(students)"
   ]
  },
  {
   "cell_type": "markdown",
   "metadata": {},
   "source": [
    "# Find the second-lowest grade<br>\n",
    "# 1. Extract unique grades and sort them<br>\n",
    "unique_grades = sorted(set([student[1] for student in students]))"
   ]
  },
  {
   "cell_type": "markdown",
   "metadata": {},
   "source": [
    "# 2. Get the second lowest grade<br>\n",
    "if len(unique_grades) > 1:<br>\n",
    "    second_lowest_grade = unique_grades[1]<br>\n",
    "else:<br>\n",
    "    print(\"Not enough unique grades to determine the second lowest.\")<br>\n",
    "    exit()"
   ]
  },
  {
   "cell_type": "markdown",
   "metadata": {},
   "source": [
    "print(f\"Second lowest grade: {second_lowest_grade}\")"
   ]
  },
  {
   "cell_type": "markdown",
   "metadata": {},
   "source": [
    "# Find students with the second lowest grade using a lambda filter<br>\n",
    "second_lowest_students = list(filter(lambda x: x[1] == second_lowest_grade, students))"
   ]
  },
  {
   "cell_type": "markdown",
   "metadata": {},
   "source": [
    "# Extract names of students with the second lowest grade<br>\n",
    "names_with_second_lowest = sorted([student[0] for student in second_lowest_students])"
   ]
  },
  {
   "cell_type": "markdown",
   "metadata": {},
   "source": [
    "print(\"Names:\")<br>\n",
    "for name in names_with_second_lowest:<br>\n",
    "    print(name)"
   ]
  },
  {
   "cell_type": "markdown",
   "metadata": {},
   "source": [
    "\n",
    "<br>\n",
    "Write a Python program to find numbers divisible by nineteen or thirteen from a list of numbers using Lambda.<br>\n"
   ]
  },
  {
   "cell_type": "code",
   "execution_count": null,
   "metadata": {},
   "outputs": [],
   "source": [
    "nums = [19, 65, 57, 39, 152, 639, 121, 44, 90, 190]\n",
    "result = list(filter(lambda x: (x % 19 == 0 or x % 13 == 0), nums))\n",
    "print(result)"
   ]
  },
  {
   "cell_type": "markdown",
   "metadata": {},
   "source": [
    "\n",
    "<br>\n",
    "18. Write a Python program to find palindromes in a given list of strings using Lambda.<br>\n"
   ]
  },
  {
   "cell_type": "code",
   "execution_count": null,
   "metadata": {},
   "outputs": [],
   "source": [
    "y = ['php', 'w3r', 'Python', 'abcd', 'Java', 'aaa']\n",
    "res = list(filter(lambda x:x==x[::-1],y))\n",
    "print(res)"
   ]
  },
  {
   "cell_type": "markdown",
   "metadata": {},
   "source": [
    "\n",
    "<br>\n",
    "19. Write a Python program to find all anagrams of a string in a given list of strings using Lambda.<br>\n",
    "Orginal list of strings:<br>\n",
    "['bcda', 'abce', 'cbda', 'cbea', 'adcb']<br>\n",
    "Anagrams of 'abcd' in the above string:<br>\n",
    "['bcda', 'cbda', 'adcb']<br>\n"
   ]
  },
  {
   "cell_type": "code",
   "execution_count": null,
   "metadata": {},
   "outputs": [],
   "source": [
    "from collections import Counter\n",
    "str = \"abcd\"\n",
    "texts = ['bcda', 'abce', 'cbda', 'cbea', 'adcb']\n",
    "result = list(filter(lambda x: (Counter(str) == Counter(x)), texts))\n",
    "print(result)"
   ]
  },
  {
   "cell_type": "markdown",
   "metadata": {},
   "source": [
    "\n",
    "<br>\n",
    "20. Write a Python program to find the numbers in a given string and store them in a list. Afterward, display the numbers that are longer than the length of the list in sorted form. Use the lambda function to solve the problem.<br>\n",
    "Original string: sdf 23 safs8 5 sdfsd8 sdfs 56 21sfs 20 5<br>\n",
    "Numbers in sorted form:<br>\n",
    "20 23 56<br>\n"
   ]
  },
  {
   "cell_type": "code",
   "execution_count": null,
   "metadata": {},
   "outputs": [],
   "source": [
    "s = \"sdf 23 safs8 5 sdfsd8 sdfs 56 21sfs 20 5\"\n",
    "z = list(filter(lambda x:x if x.isdigit() else '',s.split()))\n",
    "y = list(filter(lambda x:int(x) if int(x)>len(z) else '',z))\n",
    "result = sorted(list(filter(lambda x: int(x) > len(s.split()), filter(lambda x: x.isdigit(), s.split()))))"
   ]
  },
  {
   "cell_type": "code",
   "execution_count": null,
   "metadata": {},
   "outputs": [],
   "source": [
    "print(sorted(y))\n",
    "# res = list(filter(lambda x:x>len(s),s.split()))"
   ]
  },
  {
   "cell_type": "markdown",
   "metadata": {},
   "source": [
    "\n",
    "<br>\n",
    "21. Write a Python program that multiplies each number in a list with a given number using lambda functions. Print the results.<br>\n",
    "Original list: [2, 4, 6, 9, 11]<br>\n",
    "Given number: 2<br>\n",
    "Result:<br>\n",
    "4 8 12 18 22<br>\n"
   ]
  },
  {
   "cell_type": "code",
   "execution_count": null,
   "metadata": {},
   "outputs": [],
   "source": [
    "nums = [2, 4, 6, 9, 11]\n",
    "n = 2\n",
    "res = list(map(lambda x:x*n,nums))\n",
    "print(res)"
   ]
  }
 ],
 "metadata": {
  "kernelspec": {
   "display_name": "Python 3",
   "language": "python",
   "name": "python3"
  },
  "language_info": {
   "codemirror_mode": {
    "name": "ipython",
    "version": 3
   },
   "file_extension": ".py",
   "mimetype": "text/x-python",
   "name": "python",
   "nbconvert_exporter": "python",
   "pygments_lexer": "ipython3",
   "version": "3.6.4"
  }
 },
 "nbformat": 4,
 "nbformat_minor": 2
}
